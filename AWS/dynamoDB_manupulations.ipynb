{
 "cells": [
  {
   "cell_type": "code",
   "execution_count": 28,
   "metadata": {},
   "outputs": [],
   "source": [
    "import boto3\n",
    "\n",
    "client = boto3.client('dynamodb')\n",
    "resource = boto3.resource('dynamodb')\n",
    "table_name = 'donar'\n",
    "table = resource.Table(table_name)\n"
   ]
  },
  {
   "cell_type": "code",
   "execution_count": 9,
   "metadata": {},
   "outputs": [],
   "source": [
    "response = client.create_table(\n",
    "\n",
    "    KeySchema=[\n",
    "        {'AttributeName': 'id', 'KeyType': 'HASH'},\n",
    "    ],\n",
    "\n",
    "    AttributeDefinitions=[\n",
    "        {'AttributeName': 'id', 'AttributeType': 'N'},\n",
    "    ],\n",
    "    TableName=table_name,\n",
    "\n",
    "    ProvisionedThroughput={\n",
    "        'ReadCapacityUnits': 5,\n",
    "        'WriteCapacityUnits': 5\n",
    "    },\n",
    "\n",
    "    DeletionProtectionEnabled=False\n",
    ")\n"
   ]
  },
  {
   "cell_type": "code",
   "execution_count": 21,
   "metadata": {},
   "outputs": [
    {
     "name": "stdout",
     "output_type": "stream",
     "text": [
      "{'ResponseMetadata': {'RequestId': 'EF6ERBPGNLPUKGVGKBD22APIQBVV4KQNSO5AEMVJF66Q9ASUAAJG', 'HTTPStatusCode': 200, 'HTTPHeaders': {'server': 'Server', 'date': 'Sat, 29 Apr 2023 09:56:05 GMT', 'content-type': 'application/x-amz-json-1.0', 'content-length': '2', 'connection': 'keep-alive', 'x-amzn-requestid': 'EF6ERBPGNLPUKGVGKBD22APIQBVV4KQNSO5AEMVJF66Q9ASUAAJG', 'x-amz-crc32': '2745614147'}, 'RetryAttempts': 0}}\n"
     ]
    }
   ],
   "source": [
    "items = [\n",
    "    {\n",
    "        'id': 4,\n",
    "        'name': 'Prakhar Jadaun',\n",
    "        'age': 20,\n",
    "        'address': 'Jaswant Nagar',\n",
    "        'contact': '1234568570',\n",
    "        'medical_history': 'No issues',\n",
    "        'blood_group': 'O+',\n",
    "        'organ': 'Eyes'\n",
    "    },\n",
    "]\n",
    "\n",
    "for item in items:\n",
    "    response = table.put_item(Item=item)\n",
    "    print(response)\n",
    "\n",
    "\n",
    "# Format of input\n",
    "# {\n",
    "#     'id': 1,\n",
    "#     'name': 'Sani',\n",
    "#     'age': 22,\n",
    "#     'address': 'Dehradun',\n",
    "#     'contact': '1234567890',\n",
    "#     'medical_history': 'Fit Ekdum',\n",
    "#     'blood_group': 'B+',\n",
    "#     'organ': 'Kidney'\n",
    "# },\n"
   ]
  },
  {
   "cell_type": "code",
   "execution_count": 29,
   "metadata": {},
   "outputs": [
    {
     "data": {
      "text/plain": [
       "[{'organ': 'Eyes',\n",
       "  'contact': '1234568570',\n",
       "  'medical_history': 'No issues',\n",
       "  'address': 'Jaswant Nagar',\n",
       "  'id': Decimal('3'),\n",
       "  'name': 'Prakhar Jadaun',\n",
       "  'blood_group': 'O+',\n",
       "  'age': Decimal('20')},\n",
       " {'organ': 'Kidney',\n",
       "  'contact': '1234568570',\n",
       "  'medical_history': 'No issues',\n",
       "  'address': 'Jaswant Nagar',\n",
       "  'id': Decimal('2'),\n",
       "  'name': 'Sanidhya Jadaun',\n",
       "  'blood_group': 'O+',\n",
       "  'age': Decimal('20')},\n",
       " {'organ': 'Heart',\n",
       "  'contact': '1234568570',\n",
       "  'medical_history': 'No issues',\n",
       "  'address': 'Hoshiyarpur',\n",
       "  'id': Decimal('4'),\n",
       "  'name': 'Pranay Bhandari',\n",
       "  'blood_group': 'O+',\n",
       "  'age': Decimal('18')},\n",
       " {'organ': 'Lungs',\n",
       "  'contact': '7896568570',\n",
       "  'medical_history': 'Kidney Stones',\n",
       "  'address': 'Jhansi',\n",
       "  'id': Decimal('1'),\n",
       "  'name': 'Sanidhya Soni',\n",
       "  'blood_group': 'B+',\n",
       "  'age': Decimal('21')}]"
      ]
     },
     "execution_count": 29,
     "metadata": {},
     "output_type": "execute_result"
    }
   ],
   "source": [
    "response = table.scan()\n",
    "\n",
    "items = response['Items']\n",
    "\n",
    "while 'LastEvaluatedKey' in response:\n",
    "    response = table.scan(ExclusiveStartKey=response['LastEvaluatedKey'])\n",
    "    items.extend(response['Items'])\n",
    "\n",
    "items"
   ]
  },
  {
   "attachments": {},
   "cell_type": "markdown",
   "metadata": {},
   "source": [
    "Empty Database\n"
   ]
  },
  {
   "cell_type": "code",
   "execution_count": 13,
   "metadata": {},
   "outputs": [],
   "source": [
    "response = table.scan()\n",
    "\n",
    "items = response['Items']\n",
    "\n",
    "while 'LastEvaluatedKey' in response:\n",
    "    response = table.scan(ExclusiveStartKey=response['LastEvaluatedKey'])\n",
    "    items.extend(response['Items'])\n",
    "\n",
    "for item in items:\n",
    "    table.delete_item(Key={'id': item['id']})\n"
   ]
  }
 ],
 "metadata": {
  "kernelspec": {
   "display_name": "Python 3",
   "language": "python",
   "name": "python3"
  },
  "language_info": {
   "codemirror_mode": {
    "name": "ipython",
    "version": 3
   },
   "file_extension": ".py",
   "mimetype": "text/x-python",
   "name": "python",
   "nbconvert_exporter": "python",
   "pygments_lexer": "ipython3",
   "version": "3.10.6"
  },
  "orig_nbformat": 4
 },
 "nbformat": 4,
 "nbformat_minor": 2
}
