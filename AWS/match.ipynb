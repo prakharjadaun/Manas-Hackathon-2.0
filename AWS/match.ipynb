{
 "cells": [
  {
   "cell_type": "code",
   "execution_count": 1,
   "metadata": {},
   "outputs": [],
   "source": [
    "from flask import Flask, render_template, request\n",
    "import boto3\n",
    "\n",
    "client = boto3.client('dynamodb')\n",
    "resource = boto3.resource('dynamodb')\n",
    "table_name = 'donar'\n",
    "donar_table = resource.Table('donar')\n",
    "recipient_table = resource.Table('recipient')\n",
    "\n",
    "id = 0\n",
    "\n",
    "table = resource.Table(table_name)\n",
    "\n",
    "details = {\n",
    "    'id': 0,\n",
    "    'name': '',\n",
    "    'age': 0,\n",
    "    'address': '',\n",
    "    'contact': '',\n",
    "    'medical_history': '',\n",
    "    'blood_group': '',\n",
    "    'organ': ''\n",
    "}"
   ]
  },
  {
   "cell_type": "code",
   "execution_count": 2,
   "metadata": {},
   "outputs": [],
   "source": [
    "donar_response = donar_table.scan()\n",
    "recipient_response = recipient_table.scan()"
   ]
  },
  {
   "cell_type": "code",
   "execution_count": 3,
   "metadata": {},
   "outputs": [],
   "source": [
    "donars = donar_response['Items']"
   ]
  },
  {
   "cell_type": "code",
   "execution_count": 4,
   "metadata": {},
   "outputs": [],
   "source": [
    "recipient = recipient_response['Items']"
   ]
  },
  {
   "cell_type": "code",
   "execution_count": 5,
   "metadata": {},
   "outputs": [
    {
     "data": {
      "text/plain": [
       "'kidney'"
      ]
     },
     "execution_count": 5,
     "metadata": {},
     "output_type": "execute_result"
    }
   ],
   "source": [
    "donars[0]['organ'].lower()"
   ]
  },
  {
   "cell_type": "code",
   "execution_count": 6,
   "metadata": {},
   "outputs": [
    {
     "data": {
      "text/plain": [
       "'Heart'"
      ]
     },
     "execution_count": 6,
     "metadata": {},
     "output_type": "execute_result"
    }
   ],
   "source": [
    "recipient[0]['organ']"
   ]
  },
  {
   "cell_type": "code",
   "execution_count": 7,
   "metadata": {},
   "outputs": [],
   "source": [
    "index = []\n",
    "for i in range(len(donars)):\n",
    "    if donars[i]['organ'].lower() == recipient[0]['organ'].lower():\n",
    "        index.append(i)"
   ]
  },
  {
   "cell_type": "code",
   "execution_count": 8,
   "metadata": {},
   "outputs": [
    {
     "name": "stdout",
     "output_type": "stream",
     "text": [
      "{'organ': 'Heart', 'contact': '6987456321', 'medical_history': 'All good', 'address': '2017/2 Sharda Hills Colony', 'id': Decimal('1'), 'name': 'Alan', 'blood_group': 'A+', 'age': '45'}\n"
     ]
    }
   ],
   "source": [
    "for i in index:\n",
    "    print(donars[i])"
   ]
  },
  {
   "cell_type": "code",
   "execution_count": null,
   "metadata": {},
   "outputs": [],
   "source": [
    "res = \"\"\n",
    "res += \"We have found an angel named : \"+donars[0]['name']\n",
    "res += \"<br>\"\n",
    "res += \"Contact: \"+donars[0]['contact']\n",
    "res += \"<br>\"\n",
    "res += \"Medical history: \"+donars[0]['medical_history']\n",
    "res += \"<br>\"\n",
    "res += \"Address: \"+donars[0]['address']\n",
    "res += \"<br>\"\n",
    "res += \"Address: \"+donars[0]['blood_group']\n",
    "res += \"<br>\"\n",
    "res += \"Age: \"+donars[0]['age']\n",
    "\n"
   ]
  },
  {
   "cell_type": "code",
   "execution_count": null,
   "metadata": {},
   "outputs": [],
   "source": []
  }
 ],
 "metadata": {
  "kernelspec": {
   "display_name": "Python 3",
   "language": "python",
   "name": "python3"
  },
  "language_info": {
   "codemirror_mode": {
    "name": "ipython",
    "version": 3
   },
   "file_extension": ".py",
   "mimetype": "text/x-python",
   "name": "python",
   "nbconvert_exporter": "python",
   "pygments_lexer": "ipython3",
   "version": "3.10.6"
  },
  "orig_nbformat": 4
 },
 "nbformat": 4,
 "nbformat_minor": 2
}
